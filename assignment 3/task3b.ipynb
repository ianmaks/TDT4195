{
 "cells": [
  {
   "cell_type": "code",
   "execution_count": 7,
   "id": "8f4cc61c",
   "metadata": {},
   "outputs": [],
   "source": [
    "import utils\n",
    "import skimage\n",
    "import skimage.morphology\n",
    "import numpy as np\n",
    "import pathlib"
   ]
  },
  {
   "cell_type": "code",
   "execution_count": 8,
   "id": "0496709e",
   "metadata": {},
   "outputs": [],
   "source": [
    "def distance_transform(im: np.ndarray) -> np.ndarray:\n",
    "    \"\"\"\n",
    "        A function that computes the distance to the closest boundary pixel.\n",
    "\n",
    "        args:\n",
    "            im: np.ndarray of shape (H, W) with boolean values (dtype=np.bool)\n",
    "        return:\n",
    "            (np.ndarray) of shape (H, W). dtype=np.int32\n",
    "    \"\"\"\n",
    "    ### START YOUR CODE HERE ### (You can change anything inside this block)\n",
    "    # You can also define other helper functions\n",
    "    assert im.dtype == bool\n",
    "    structuring_element = np.array([\n",
    "        [1, 1, 1],\n",
    "        [1, 1, 1],\n",
    "        [1, 1, 1]\n",
    "    ], dtype=bool)\n",
    "    reference_image = im.copy()\n",
    "    result_image = np.zeros_like(im, dtype=np.int32)\n",
    "    loops = 1\n",
    "    while 1:\n",
    "        skimage.morphology.binary_erosion(im, structuring_element, out=im)\n",
    "        changes = np.logical_xor(im, reference_image)\n",
    "        if not np.any(changes):\n",
    "            break\n",
    "        result_image[changes] = loops\n",
    "        reference_image = im.copy()\n",
    "        loops += 1\n",
    "\n",
    "    for i in range(1, im.shape[0] - 1):\n",
    "        for j in range(1, im.shape[1] - 1):\n",
    "            if im[i][j] == 0:\n",
    "                im[i + 1][j + 1] = 1\n",
    "\n",
    "\n",
    "    result = result_image.astype(np.int32)\n",
    "    return result\n",
    "    ### END YOUR CODE HERE ###"
   ]
  },
  {
   "cell_type": "code",
   "execution_count": 9,
   "id": "fb43730d",
   "metadata": {},
   "outputs": [
    {
     "name": "stdout",
     "output_type": "stream",
     "text": [
      "Reading image: image_processed/noisy-filtered.png\n",
      "Saving image to: image_processed/noisy-distance.png\n"
     ]
    },
    {
     "name": "stderr",
     "output_type": "stream",
     "text": [
      "/Users/ianaksum/Documents/repos/TDT4195/assignment 3/utils.py:39: UserWarning: Image min/max is outside the range [0.0, 1.0]. Squashing the image to this range. (Can be safely ignored)\n",
      "  warnings.warn(\"Image min/max is outside the range [0.0, 1.0]. Squashing the image to this range. (Can be safely ignored)\")\n"
     ]
    }
   ],
   "source": [
    "if __name__ == \"__main__\":\n",
    "    im = utils.read_image(\"noisy-filtered.png\", image_folder=pathlib.Path(\"image_processed\")) # <-- This image is created in task3a\n",
    "    binary_image = (im != 0)\n",
    "    distance = distance_transform(binary_image)\n",
    "\n",
    "    assert im.shape == distance.shape, \"Expected image shape ({}) to be same as resulting image shape ({})\".format(\n",
    "            im.shape, distance.shape)\n",
    "    assert distance.dtype == np.int32, \"Expected resulting image dtype to be np.int32. Was: {}\".format(\n",
    "            distance.dtype)\n",
    "\n",
    "    distance = utils.to_uint8(distance)\n",
    "    utils.save_im(\"noisy-distance.png\", distance)"
   ]
  }
 ],
 "metadata": {
  "kernelspec": {
   "display_name": "Python 3",
   "language": "python",
   "name": "python3"
  },
  "language_info": {
   "codemirror_mode": {
    "name": "ipython",
    "version": 3
   },
   "file_extension": ".py",
   "mimetype": "text/x-python",
   "name": "python",
   "nbconvert_exporter": "python",
   "pygments_lexer": "ipython3",
   "version": "3.11.6"
  }
 },
 "nbformat": 4,
 "nbformat_minor": 5
}
