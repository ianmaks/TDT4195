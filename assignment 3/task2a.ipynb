{
 "cells": [
  {
   "cell_type": "code",
   "execution_count": 1,
   "id": "2d9befbe",
   "metadata": {},
   "outputs": [],
   "source": [
    "import numpy as np\n",
    "import skimage\n",
    "import utils\n",
    "import pathlib"
   ]
  },
  {
   "cell_type": "code",
   "execution_count": 2,
   "id": "6178db27",
   "metadata": {},
   "outputs": [],
   "source": [
    "def otsu_thresholding(im: np.ndarray) -> int:\n",
    "    \"\"\"\n",
    "        Otsu's thresholding algorithm that segments an image into 1 or 0 (True or False)\n",
    "        The function takes in a grayscale image and outputs a threshold value\n",
    "\n",
    "        args:\n",
    "            im: np.ndarray of shape (H, W) in the range [0, 255] (dtype=np.uint8)\n",
    "        return:\n",
    "            (int) the computed thresholding value\n",
    "    \"\"\"\n",
    "    assert im.dtype == np.uint8\n",
    "    ### START YOUR CODE HERE ### (You can change anything inside this block) \n",
    "    hist, _ = np.histogram(im, bins=256, range=(0, 255))\n",
    "    hist.astype(np.float32)\n",
    "    hist = hist/hist.sum().astype(np.float32)\n",
    "    global_mean = np.arange(256).dot(hist)\n",
    "    global_var = hist.dot((np.arange(256)-global_mean)**2)\n",
    "    thresholds = np.arange(256)\n",
    "    between_class_var = np.zeros(256)\n",
    "    for i in range(256):\n",
    "        p1 = hist[:i+1].sum()\n",
    "        p2 = 1 - p1\n",
    "        if p1 == 0 or p2 == 0:\n",
    "            continue\n",
    "        mean1 = np.arange(i+1).dot(hist[:i+1]) / p1\n",
    "        mean2 = np.arange(i+1, 256).dot(hist[i+1:]) / p2\n",
    "        between_class_var[i] = p1 * p2 * (mean1 - mean2)**2\n",
    "\n",
    "    # print(between_class_var)\n",
    "    threshold = np.argmax(between_class_var)\n",
    "    \n",
    "    # You can also define other helper functions\n",
    "    # Compute normalized histogram\n",
    "    print(threshold)\n",
    "    return threshold\n",
    "    ### END YOUR CODE HERE ###"
   ]
  },
  {
   "cell_type": "code",
   "execution_count": 3,
   "id": "822e18b6",
   "metadata": {},
   "outputs": [
    {
     "name": "stdout",
     "output_type": "stream",
     "text": [
      "Reading image: images/thumbprint.png\n",
      "153\n",
      "Found optimal threshold: 153\n",
      "Saving image to: image_processed/thumbprint-segmented.png\n",
      "Reading image: images/rice-shaded.png\n",
      "134\n",
      "Found optimal threshold: 134\n",
      "Saving image to: image_processed/rice-shaded-segmented.png\n"
     ]
    }
   ],
   "source": [
    "if __name__ == \"__main__\":\n",
    "    # DO NOT CHANGE\n",
    "    impaths_to_segment = [\n",
    "        pathlib.Path(\"thumbprint.png\"),\n",
    "        pathlib.Path(\"rice-shaded.png\")\n",
    "    ]\n",
    "    for impath in impaths_to_segment:\n",
    "        im = utils.read_image(impath)\n",
    "        threshold = otsu_thresholding(im)\n",
    "        print(\"Found optimal threshold:\", threshold)\n",
    "\n",
    "        # Segment the image by threshold\n",
    "        segmented_image = (im >= threshold)\n",
    "        assert im.shape == segmented_image.shape, \"Expected image shape ({}) to be same as thresholded image shape ({})\".format(\n",
    "                im.shape, segmented_image.shape)\n",
    "        assert segmented_image.dtype == bool, \"Expected thresholded image dtype to be bool. Was: {}\".format(\n",
    "                segmented_image.dtype)\n",
    "\n",
    "        segmented_image = utils.to_uint8(segmented_image)\n",
    "\n",
    "        save_path = \"{}-segmented.png\".format(impath.stem)\n",
    "        utils.save_im(save_path, segmented_image)"
   ]
  }
 ],
 "metadata": {
  "kernelspec": {
   "display_name": "Python 3",
   "language": "python",
   "name": "python3"
  },
  "language_info": {
   "codemirror_mode": {
    "name": "ipython",
    "version": 3
   },
   "file_extension": ".py",
   "mimetype": "text/x-python",
   "name": "python",
   "nbconvert_exporter": "python",
   "pygments_lexer": "ipython3",
   "version": "3.11.6"
  }
 },
 "nbformat": 4,
 "nbformat_minor": 5
}
